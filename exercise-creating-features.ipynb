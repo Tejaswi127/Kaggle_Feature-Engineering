{
 "cells": [
  {
   "cell_type": "markdown",
   "id": "716a1e5c",
   "metadata": {
    "papermill": {
     "duration": 0.007539,
     "end_time": "2022-07-02T18:07:50.127339",
     "exception": false,
     "start_time": "2022-07-02T18:07:50.119800",
     "status": "completed"
    },
    "tags": []
   },
   "source": [
    "**This notebook is an exercise in the [Feature Engineering](https://www.kaggle.com/learn/feature-engineering) course.  You can reference the tutorial at [this link](https://www.kaggle.com/ryanholbrook/creating-features).**\n",
    "\n",
    "---\n"
   ]
  },
  {
   "cell_type": "markdown",
   "id": "0d6a4eae",
   "metadata": {
    "papermill": {
     "duration": 0.006598,
     "end_time": "2022-07-02T18:07:50.140537",
     "exception": false,
     "start_time": "2022-07-02T18:07:50.133939",
     "status": "completed"
    },
    "tags": []
   },
   "source": [
    "# Introduction #\n",
    "\n",
    "In this exercise you'll start developing the features you identified in Exercise 2 as having the most potential. As you work through this exercise, you might take a moment to look at the data documentation again and consider whether the features we're creating make sense from a real-world perspective, and whether there are any useful combinations that stand out to you.\n",
    "\n",
    "Run this cell to set everything up!"
   ]
  },
  {
   "cell_type": "code",
   "execution_count": 1,
   "id": "ac32075f",
   "metadata": {
    "execution": {
     "iopub.execute_input": "2022-07-02T18:07:50.155806Z",
     "iopub.status.busy": "2022-07-02T18:07:50.155238Z",
     "iopub.status.idle": "2022-07-02T18:07:51.647683Z",
     "shell.execute_reply": "2022-07-02T18:07:51.646729Z"
    },
    "papermill": {
     "duration": 1.503396,
     "end_time": "2022-07-02T18:07:51.650456",
     "exception": false,
     "start_time": "2022-07-02T18:07:50.147060",
     "status": "completed"
    },
    "tags": []
   },
   "outputs": [],
   "source": [
    "# Setup feedback system\n",
    "from learntools.core import binder\n",
    "binder.bind(globals())\n",
    "from learntools.feature_engineering_new.ex3 import *\n",
    "\n",
    "import numpy as np\n",
    "import pandas as pd\n",
    "from sklearn.model_selection import cross_val_score\n",
    "from xgboost import XGBRegressor\n",
    "\n",
    "\n",
    "def score_dataset(X, y, model=XGBRegressor()):\n",
    "    # Label encoding for categoricals\n",
    "    for colname in X.select_dtypes([\"category\", \"object\"]):\n",
    "        X[colname], _ = X[colname].factorize()\n",
    "    # Metric for Housing competition is RMSLE (Root Mean Squared Log Error)\n",
    "    score = cross_val_score(\n",
    "        model, X, y, cv=5, scoring=\"neg_mean_squared_log_error\",\n",
    "    )\n",
    "    score = -1 * score.mean()\n",
    "    score = np.sqrt(score)\n",
    "    return score\n",
    "\n",
    "\n",
    "# Prepare data\n",
    "df = pd.read_csv(\"../input/fe-course-data/ames.csv\")\n",
    "X = df.copy()\n",
    "y = X.pop(\"SalePrice\")"
   ]
  },
  {
   "cell_type": "markdown",
   "id": "ed4a9b14",
   "metadata": {
    "papermill": {
     "duration": 0.00658,
     "end_time": "2022-07-02T18:07:51.663448",
     "exception": false,
     "start_time": "2022-07-02T18:07:51.656868",
     "status": "completed"
    },
    "tags": []
   },
   "source": [
    "-------------------------------------------------------------------------------\n",
    "\n",
    "Let's start with a few mathematical combinations. We'll focus on features describing areas -- having the same units (square-feet) makes it easy to combine them in sensible ways. Since we're using XGBoost (a tree-based model), we'll focus on ratios and sums.\n",
    "\n",
    "# 1) Create Mathematical Transforms\n",
    "\n",
    "Create the following features:\n",
    "\n",
    "- `LivLotRatio`: the ratio of `GrLivArea` to `LotArea`\n",
    "- `Spaciousness`: the sum of `FirstFlrSF` and `SecondFlrSF` divided by `TotRmsAbvGrd`\n",
    "- `TotalOutsideSF`: the sum of `WoodDeckSF`, `OpenPorchSF`, `EnclosedPorch`, `Threeseasonporch`, and `ScreenPorch`"
   ]
  },
  {
   "cell_type": "code",
   "execution_count": 2,
   "id": "0ce46490",
   "metadata": {
    "execution": {
     "iopub.execute_input": "2022-07-02T18:07:51.678779Z",
     "iopub.status.busy": "2022-07-02T18:07:51.678090Z",
     "iopub.status.idle": "2022-07-02T18:07:51.702315Z",
     "shell.execute_reply": "2022-07-02T18:07:51.701219Z"
    },
    "lines_to_next_cell": 0,
    "papermill": {
     "duration": 0.03454,
     "end_time": "2022-07-02T18:07:51.704736",
     "exception": false,
     "start_time": "2022-07-02T18:07:51.670196",
     "status": "completed"
    },
    "tags": []
   },
   "outputs": [
    {
     "data": {
      "application/javascript": [
       "parent.postMessage({\"jupyterEvent\": \"custom.exercise_interaction\", \"data\": {\"outcomeType\": 1, \"valueTowardsCompletion\": 0.2, \"interactionType\": 1, \"questionType\": 2, \"questionId\": \"1_Q1\", \"learnToolsVersion\": \"0.3.4\", \"failureMessage\": \"\", \"exceptionClass\": \"\", \"trace\": \"\"}}, \"*\")"
      ],
      "text/plain": [
       "<IPython.core.display.Javascript object>"
      ]
     },
     "metadata": {},
     "output_type": "display_data"
    },
    {
     "data": {
      "text/markdown": [
       "<span style=\"color:#33cc33\">Correct</span>"
      ],
      "text/plain": [
       "Correct"
      ]
     },
     "metadata": {},
     "output_type": "display_data"
    }
   ],
   "source": [
    "# YOUR CODE HERE\n",
    "X_1 = pd.DataFrame()  # dataframe to hold new features\n",
    "\n",
    "X_1[\"LivLotRatio\"] = df.GrLivArea / df.LotArea\n",
    "X_1[\"Spaciousness\"] = (df.FirstFlrSF + df.SecondFlrSF) / df.TotRmsAbvGrd\n",
    "X_1[\"TotalOutsideSF\"] = df.WoodDeckSF + df.OpenPorchSF + df.EnclosedPorch + df.Threeseasonporch + df.ScreenPorch\n",
    "\n",
    "\n",
    "# Check your answer\n",
    "q_1.check()"
   ]
  },
  {
   "cell_type": "code",
   "execution_count": 3,
   "id": "0c5268a3",
   "metadata": {
    "execution": {
     "iopub.execute_input": "2022-07-02T18:07:51.720692Z",
     "iopub.status.busy": "2022-07-02T18:07:51.720304Z",
     "iopub.status.idle": "2022-07-02T18:07:51.724926Z",
     "shell.execute_reply": "2022-07-02T18:07:51.723572Z"
    },
    "lines_to_next_cell": 0,
    "papermill": {
     "duration": 0.015095,
     "end_time": "2022-07-02T18:07:51.727143",
     "exception": false,
     "start_time": "2022-07-02T18:07:51.712048",
     "status": "completed"
    },
    "tags": []
   },
   "outputs": [],
   "source": [
    "# Lines below will give you a hint or solution code\n",
    "#q_1.hint()\n",
    "#q_1.solution()"
   ]
  },
  {
   "cell_type": "markdown",
   "id": "408049b8",
   "metadata": {
    "papermill": {
     "duration": 0.006879,
     "end_time": "2022-07-02T18:07:51.741012",
     "exception": false,
     "start_time": "2022-07-02T18:07:51.734133",
     "status": "completed"
    },
    "tags": []
   },
   "source": [
    "-------------------------------------------------------------------------------\n",
    "\n",
    "If you've discovered an interaction effect between a numeric feature and a categorical feature, you might want to model it explicitly using a one-hot encoding, like so:\n",
    "\n",
    "```\n",
    "# One-hot encode Categorical feature, adding a column prefix \"Cat\"\n",
    "X_new = pd.get_dummies(df.Categorical, prefix=\"Cat\")\n",
    "\n",
    "# Multiply row-by-row\n",
    "X_new = X_new.mul(df.Continuous, axis=0)\n",
    "\n",
    "# Join the new features to the feature set\n",
    "X = X.join(X_new)\n",
    "```\n",
    "\n",
    "# 2) Interaction with a Categorical\n",
    "\n",
    "We discovered an interaction between `BldgType` and `GrLivArea` in Exercise 2. Now create their interaction features."
   ]
  },
  {
   "cell_type": "code",
   "execution_count": 4,
   "id": "f00bed89",
   "metadata": {
    "execution": {
     "iopub.execute_input": "2022-07-02T18:07:51.756165Z",
     "iopub.status.busy": "2022-07-02T18:07:51.755783Z",
     "iopub.status.idle": "2022-07-02T18:07:51.770554Z",
     "shell.execute_reply": "2022-07-02T18:07:51.769296Z"
    },
    "lines_to_next_cell": 0,
    "papermill": {
     "duration": 0.025053,
     "end_time": "2022-07-02T18:07:51.772788",
     "exception": false,
     "start_time": "2022-07-02T18:07:51.747735",
     "status": "completed"
    },
    "tags": []
   },
   "outputs": [
    {
     "data": {
      "application/javascript": [
       "parent.postMessage({\"jupyterEvent\": \"custom.exercise_interaction\", \"data\": {\"outcomeType\": 1, \"valueTowardsCompletion\": 0.2, \"interactionType\": 1, \"questionType\": 2, \"questionId\": \"2_Q2\", \"learnToolsVersion\": \"0.3.4\", \"failureMessage\": \"\", \"exceptionClass\": \"\", \"trace\": \"\"}}, \"*\")"
      ],
      "text/plain": [
       "<IPython.core.display.Javascript object>"
      ]
     },
     "metadata": {},
     "output_type": "display_data"
    },
    {
     "data": {
      "text/markdown": [
       "<span style=\"color:#33cc33\">Correct</span>"
      ],
      "text/plain": [
       "Correct"
      ]
     },
     "metadata": {},
     "output_type": "display_data"
    }
   ],
   "source": [
    "# YOUR CODE HERE\n",
    "# One-hot encode BldgType. Use `prefix=\"Bldg\"` in `get_dummies`\n",
    "X_2 = pd.get_dummies(df.BldgType, prefix=\"Bldg\") \n",
    "# Multiply\n",
    "X_2 = X_2.mul(df.GrLivArea, axis=0)\n",
    "\n",
    "\n",
    "# Check your answer\n",
    "q_2.check()"
   ]
  },
  {
   "cell_type": "code",
   "execution_count": 5,
   "id": "d0171e7c",
   "metadata": {
    "execution": {
     "iopub.execute_input": "2022-07-02T18:07:51.789033Z",
     "iopub.status.busy": "2022-07-02T18:07:51.788293Z",
     "iopub.status.idle": "2022-07-02T18:07:51.792297Z",
     "shell.execute_reply": "2022-07-02T18:07:51.791264Z"
    },
    "lines_to_next_cell": 0,
    "papermill": {
     "duration": 0.014369,
     "end_time": "2022-07-02T18:07:51.794374",
     "exception": false,
     "start_time": "2022-07-02T18:07:51.780005",
     "status": "completed"
    },
    "tags": []
   },
   "outputs": [],
   "source": [
    "# Lines below will give you a hint or solution code\n",
    "#q_2.hint()\n",
    "#q_2.solution()"
   ]
  },
  {
   "cell_type": "markdown",
   "id": "48bfee8e",
   "metadata": {
    "lines_to_next_cell": 0,
    "papermill": {
     "duration": 0.006686,
     "end_time": "2022-07-02T18:07:51.808044",
     "exception": false,
     "start_time": "2022-07-02T18:07:51.801358",
     "status": "completed"
    },
    "tags": []
   },
   "source": [
    "# 3) Count Feature\n",
    "\n",
    "Let's try creating a feature that describes how many kinds of outdoor areas a dwelling has. Create a feature `PorchTypes` that counts how many of the following are greater than 0.0:\n",
    "\n",
    "```\n",
    "WoodDeckSF\n",
    "OpenPorchSF\n",
    "EnclosedPorch\n",
    "Threeseasonporch\n",
    "ScreenPorch\n",
    "```"
   ]
  },
  {
   "cell_type": "code",
   "execution_count": 6,
   "id": "aa0c091e",
   "metadata": {
    "execution": {
     "iopub.execute_input": "2022-07-02T18:07:51.823398Z",
     "iopub.status.busy": "2022-07-02T18:07:51.823031Z",
     "iopub.status.idle": "2022-07-02T18:07:51.842507Z",
     "shell.execute_reply": "2022-07-02T18:07:51.841344Z"
    },
    "lines_to_next_cell": 0,
    "papermill": {
     "duration": 0.029883,
     "end_time": "2022-07-02T18:07:51.844869",
     "exception": false,
     "start_time": "2022-07-02T18:07:51.814986",
     "status": "completed"
    },
    "tags": []
   },
   "outputs": [
    {
     "data": {
      "application/javascript": [
       "parent.postMessage({\"jupyterEvent\": \"custom.exercise_interaction\", \"data\": {\"outcomeType\": 1, \"valueTowardsCompletion\": 0.2, \"interactionType\": 1, \"questionType\": 2, \"questionId\": \"3_Q3\", \"learnToolsVersion\": \"0.3.4\", \"failureMessage\": \"\", \"exceptionClass\": \"\", \"trace\": \"\"}}, \"*\")"
      ],
      "text/plain": [
       "<IPython.core.display.Javascript object>"
      ]
     },
     "metadata": {},
     "output_type": "display_data"
    },
    {
     "data": {
      "text/markdown": [
       "<span style=\"color:#33cc33\">Correct</span>"
      ],
      "text/plain": [
       "Correct"
      ]
     },
     "metadata": {},
     "output_type": "display_data"
    }
   ],
   "source": [
    "X_3 = pd.DataFrame()\n",
    "\n",
    "# YOUR CODE HERE\n",
    "X_3[\"PorchTypes\"] = df[[\n",
    "    \"WoodDeckSF\",\n",
    "    \"OpenPorchSF\",\n",
    "    \"EnclosedPorch\",\n",
    "    \"Threeseasonporch\",\n",
    "    \"ScreenPorch\",\n",
    "]].gt(0.0).sum(axis=1)\n",
    "\n",
    "\n",
    "# Check your answer\n",
    "q_3.check()"
   ]
  },
  {
   "cell_type": "code",
   "execution_count": 7,
   "id": "52d371c9",
   "metadata": {
    "execution": {
     "iopub.execute_input": "2022-07-02T18:07:51.861018Z",
     "iopub.status.busy": "2022-07-02T18:07:51.860602Z",
     "iopub.status.idle": "2022-07-02T18:07:51.865049Z",
     "shell.execute_reply": "2022-07-02T18:07:51.863946Z"
    },
    "lines_to_next_cell": 0,
    "papermill": {
     "duration": 0.01522,
     "end_time": "2022-07-02T18:07:51.867259",
     "exception": false,
     "start_time": "2022-07-02T18:07:51.852039",
     "status": "completed"
    },
    "tags": []
   },
   "outputs": [],
   "source": [
    "# Lines below will give you a hint or solution code\n",
    "#q_3.hint()\n",
    "#q_3.solution()"
   ]
  },
  {
   "cell_type": "markdown",
   "id": "b30ca9e4",
   "metadata": {
    "papermill": {
     "duration": 0.00683,
     "end_time": "2022-07-02T18:07:51.881257",
     "exception": false,
     "start_time": "2022-07-02T18:07:51.874427",
     "status": "completed"
    },
    "tags": []
   },
   "source": [
    "# 4) Break Down a Categorical Feature\n",
    "\n",
    "`MSSubClass` describes the type of a dwelling:"
   ]
  },
  {
   "cell_type": "code",
   "execution_count": 8,
   "id": "94a6aee1",
   "metadata": {
    "execution": {
     "iopub.execute_input": "2022-07-02T18:07:51.897846Z",
     "iopub.status.busy": "2022-07-02T18:07:51.897087Z",
     "iopub.status.idle": "2022-07-02T18:07:51.905465Z",
     "shell.execute_reply": "2022-07-02T18:07:51.904277Z"
    },
    "papermill": {
     "duration": 0.019347,
     "end_time": "2022-07-02T18:07:51.907761",
     "exception": false,
     "start_time": "2022-07-02T18:07:51.888414",
     "status": "completed"
    },
    "tags": []
   },
   "outputs": [
    {
     "data": {
      "text/plain": [
       "array(['One_Story_1946_and_Newer_All_Styles', 'Two_Story_1946_and_Newer',\n",
       "       'One_Story_PUD_1946_and_Newer',\n",
       "       'One_and_Half_Story_Finished_All_Ages', 'Split_Foyer',\n",
       "       'Two_Story_PUD_1946_and_Newer', 'Split_or_Multilevel',\n",
       "       'One_Story_1945_and_Older', 'Duplex_All_Styles_and_Ages',\n",
       "       'Two_Family_conversion_All_Styles_and_Ages',\n",
       "       'One_and_Half_Story_Unfinished_All_Ages',\n",
       "       'Two_Story_1945_and_Older', 'Two_and_Half_Story_All_Ages',\n",
       "       'One_Story_with_Finished_Attic_All_Ages',\n",
       "       'PUD_Multilevel_Split_Level_Foyer',\n",
       "       'One_and_Half_Story_PUD_All_Ages'], dtype=object)"
      ]
     },
     "execution_count": 8,
     "metadata": {},
     "output_type": "execute_result"
    }
   ],
   "source": [
    "df.MSSubClass.unique()"
   ]
  },
  {
   "cell_type": "markdown",
   "id": "d5975d06",
   "metadata": {
    "papermill": {
     "duration": 0.00737,
     "end_time": "2022-07-02T18:07:51.922641",
     "exception": false,
     "start_time": "2022-07-02T18:07:51.915271",
     "status": "completed"
    },
    "tags": []
   },
   "source": [
    "You can see that there is a more general categorization described (roughly) by the first word of each category. Create a feature containing only these first words by splitting `MSSubClass` at the first underscore `_`. (Hint: In the `split` method use an argument `n=1`.)"
   ]
  },
  {
   "cell_type": "code",
   "execution_count": 9,
   "id": "c10bdf33",
   "metadata": {
    "execution": {
     "iopub.execute_input": "2022-07-02T18:07:51.940138Z",
     "iopub.status.busy": "2022-07-02T18:07:51.939359Z",
     "iopub.status.idle": "2022-07-02T18:07:51.966786Z",
     "shell.execute_reply": "2022-07-02T18:07:51.965673Z"
    },
    "lines_to_next_cell": 0,
    "papermill": {
     "duration": 0.039115,
     "end_time": "2022-07-02T18:07:51.969174",
     "exception": false,
     "start_time": "2022-07-02T18:07:51.930059",
     "status": "completed"
    },
    "tags": []
   },
   "outputs": [
    {
     "data": {
      "application/javascript": [
       "parent.postMessage({\"jupyterEvent\": \"custom.exercise_interaction\", \"data\": {\"outcomeType\": 1, \"valueTowardsCompletion\": 0.2, \"interactionType\": 1, \"questionType\": 2, \"questionId\": \"4_Q4\", \"learnToolsVersion\": \"0.3.4\", \"failureMessage\": \"\", \"exceptionClass\": \"\", \"trace\": \"\"}}, \"*\")"
      ],
      "text/plain": [
       "<IPython.core.display.Javascript object>"
      ]
     },
     "metadata": {},
     "output_type": "display_data"
    },
    {
     "data": {
      "text/markdown": [
       "<span style=\"color:#33cc33\">Correct</span>"
      ],
      "text/plain": [
       "Correct"
      ]
     },
     "metadata": {},
     "output_type": "display_data"
    }
   ],
   "source": [
    "X_4 = pd.DataFrame()\n",
    "\n",
    "# YOUR CODE HERE\n",
    "X_4[\"MSClass\"] = df.MSSubClass.str.split(\"_\", n=1, expand=True)[0]\n",
    "\n",
    "# Check your answer\n",
    "q_4.check()"
   ]
  },
  {
   "cell_type": "code",
   "execution_count": 10,
   "id": "d1633dfb",
   "metadata": {
    "execution": {
     "iopub.execute_input": "2022-07-02T18:07:51.986970Z",
     "iopub.status.busy": "2022-07-02T18:07:51.986232Z",
     "iopub.status.idle": "2022-07-02T18:07:51.990719Z",
     "shell.execute_reply": "2022-07-02T18:07:51.989973Z"
    },
    "lines_to_next_cell": 0,
    "papermill": {
     "duration": 0.015753,
     "end_time": "2022-07-02T18:07:51.992989",
     "exception": false,
     "start_time": "2022-07-02T18:07:51.977236",
     "status": "completed"
    },
    "tags": []
   },
   "outputs": [],
   "source": [
    "# Lines below will give you a hint or solution code\n",
    "#q_4.hint()\n",
    "#q_4.solution()"
   ]
  },
  {
   "cell_type": "markdown",
   "id": "302ea16d",
   "metadata": {
    "papermill": {
     "duration": 0.007211,
     "end_time": "2022-07-02T18:07:52.007670",
     "exception": false,
     "start_time": "2022-07-02T18:07:52.000459",
     "status": "completed"
    },
    "tags": []
   },
   "source": [
    "# 5) Use a Grouped Transform\n",
    "\n",
    "The value of a home often depends on how it compares to typical homes in its neighborhood. Create a feature `MedNhbdArea` that describes the *median* of `GrLivArea` grouped on `Neighborhood`."
   ]
  },
  {
   "cell_type": "code",
   "execution_count": 11,
   "id": "8715f253",
   "metadata": {
    "execution": {
     "iopub.execute_input": "2022-07-02T18:07:52.025486Z",
     "iopub.status.busy": "2022-07-02T18:07:52.024715Z",
     "iopub.status.idle": "2022-07-02T18:07:52.045327Z",
     "shell.execute_reply": "2022-07-02T18:07:52.044089Z"
    },
    "lines_to_next_cell": 0,
    "papermill": {
     "duration": 0.03281,
     "end_time": "2022-07-02T18:07:52.048078",
     "exception": false,
     "start_time": "2022-07-02T18:07:52.015268",
     "status": "completed"
    },
    "tags": []
   },
   "outputs": [
    {
     "data": {
      "application/javascript": [
       "parent.postMessage({\"jupyterEvent\": \"custom.exercise_interaction\", \"data\": {\"outcomeType\": 1, \"valueTowardsCompletion\": 0.2, \"interactionType\": 1, \"questionType\": 2, \"questionId\": \"5_Q5\", \"learnToolsVersion\": \"0.3.4\", \"failureMessage\": \"\", \"exceptionClass\": \"\", \"trace\": \"\"}}, \"*\")"
      ],
      "text/plain": [
       "<IPython.core.display.Javascript object>"
      ]
     },
     "metadata": {},
     "output_type": "display_data"
    },
    {
     "data": {
      "text/markdown": [
       "<span style=\"color:#33cc33\">Correct</span>"
      ],
      "text/plain": [
       "Correct"
      ]
     },
     "metadata": {},
     "output_type": "display_data"
    }
   ],
   "source": [
    "X_5 = pd.DataFrame()\n",
    "\n",
    "# YOUR CODE HERE\n",
    "X_5[\"MedNhbdArea\"] = df.groupby(\"Neighborhood\")[\"GrLivArea\"].transform(\"median\")\n",
    "\n",
    "\n",
    "# Check your answer\n",
    "q_5.check()"
   ]
  },
  {
   "cell_type": "code",
   "execution_count": 12,
   "id": "65d2b7be",
   "metadata": {
    "execution": {
     "iopub.execute_input": "2022-07-02T18:07:52.066591Z",
     "iopub.status.busy": "2022-07-02T18:07:52.065816Z",
     "iopub.status.idle": "2022-07-02T18:07:52.070512Z",
     "shell.execute_reply": "2022-07-02T18:07:52.069765Z"
    },
    "lines_to_next_cell": 0,
    "papermill": {
     "duration": 0.016892,
     "end_time": "2022-07-02T18:07:52.072741",
     "exception": false,
     "start_time": "2022-07-02T18:07:52.055849",
     "status": "completed"
    },
    "tags": []
   },
   "outputs": [],
   "source": [
    "# Lines below will give you a hint or solution code\n",
    "#q_5.hint()\n",
    "#q_5.solution()"
   ]
  },
  {
   "cell_type": "markdown",
   "id": "1bdbf454",
   "metadata": {
    "papermill": {
     "duration": 0.007628,
     "end_time": "2022-07-02T18:07:52.088562",
     "exception": false,
     "start_time": "2022-07-02T18:07:52.080934",
     "status": "completed"
    },
    "tags": []
   },
   "source": [
    "Now you've made your first new feature set! If you like, you can run the cell below to score the model with all of your new features added:"
   ]
  },
  {
   "cell_type": "code",
   "execution_count": 13,
   "id": "531ed980",
   "metadata": {
    "execution": {
     "iopub.execute_input": "2022-07-02T18:07:52.107136Z",
     "iopub.status.busy": "2022-07-02T18:07:52.106360Z",
     "iopub.status.idle": "2022-07-02T18:07:56.711534Z",
     "shell.execute_reply": "2022-07-02T18:07:56.710332Z"
    },
    "papermill": {
     "duration": 4.618406,
     "end_time": "2022-07-02T18:07:56.715079",
     "exception": false,
     "start_time": "2022-07-02T18:07:52.096673",
     "status": "completed"
    },
    "tags": []
   },
   "outputs": [
    {
     "data": {
      "text/plain": [
       "0.13847331710099203"
      ]
     },
     "execution_count": 13,
     "metadata": {},
     "output_type": "execute_result"
    }
   ],
   "source": [
    "X_new = X.join([X_1, X_2, X_3, X_4, X_5])\n",
    "score_dataset(X_new, y)"
   ]
  },
  {
   "cell_type": "markdown",
   "id": "106e5177",
   "metadata": {
    "papermill": {
     "duration": 0.00792,
     "end_time": "2022-07-02T18:07:56.732453",
     "exception": false,
     "start_time": "2022-07-02T18:07:56.724533",
     "status": "completed"
    },
    "tags": []
   },
   "source": [
    "# Keep Going #\n",
    "\n",
    "[**Untangle spatial relationships**](https://www.kaggle.com/ryanholbrook/clustering-with-k-means) by adding cluster labels to your dataset."
   ]
  },
  {
   "cell_type": "markdown",
   "id": "ccb8ff7a",
   "metadata": {
    "papermill": {
     "duration": 0.007938,
     "end_time": "2022-07-02T18:07:56.748926",
     "exception": false,
     "start_time": "2022-07-02T18:07:56.740988",
     "status": "completed"
    },
    "tags": []
   },
   "source": [
    "---\n",
    "\n",
    "\n",
    "\n",
    "\n",
    "*Have questions or comments? Visit the [course discussion forum](https://www.kaggle.com/learn/feature-engineering/discussion) to chat with other learners.*"
   ]
  }
 ],
 "metadata": {
  "kernelspec": {
   "display_name": "Python 3",
   "language": "python",
   "name": "python3"
  },
  "language_info": {
   "codemirror_mode": {
    "name": "ipython",
    "version": 3
   },
   "file_extension": ".py",
   "mimetype": "text/x-python",
   "name": "python",
   "nbconvert_exporter": "python",
   "pygments_lexer": "ipython3",
   "version": "3.7.12"
  },
  "papermill": {
   "default_parameters": {},
   "duration": 17.806824,
   "end_time": "2022-07-02T18:07:57.478334",
   "environment_variables": {},
   "exception": null,
   "input_path": "__notebook__.ipynb",
   "output_path": "__notebook__.ipynb",
   "parameters": {},
   "start_time": "2022-07-02T18:07:39.671510",
   "version": "2.3.4"
  }
 },
 "nbformat": 4,
 "nbformat_minor": 5
}
